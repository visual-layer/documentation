{
 "cells": [
  {
   "cell_type": "code",
   "execution_count": null,
   "id": "c9cf8ada",
   "metadata": {},
   "outputs": [],
   "source": [
    "# Read Visual Layer exported json and parse it into a list of videos, video frames, their timestamp, and their category"
   ]
  },
  {
   "cell_type": "code",
   "execution_count": 8,
   "id": "ba74ee28",
   "metadata": {},
   "outputs": [
    {
     "name": "stdout",
     "output_type": "stream",
     "text": [
      "                                           video_name          file_name  \\\n",
      "51  7370082532203988000_7453155857585442070_2024-1...  output_000001.jpg   \n",
      "52  7370082532203988000_7453516762223496470_2024-1...  output_000001.jpg   \n",
      "53  7370082532203988000_7457153883383614742_2025-0...  output_000002.jpg   \n",
      "54  7370082532203988000_7460204779604692246_2025-0...  output_000002.jpg   \n",
      "55  7370082532203988000_7462069977454071062_2025-0...  output_000032.jpg   \n",
      "\n",
      "    frame_number  time_in_video  \\\n",
      "51             1       0.000000   \n",
      "52             1       0.000000   \n",
      "53             2       8.351707   \n",
      "54             2       8.333333   \n",
      "55            32      84.440002   \n",
      "\n",
      "                                           categories  \n",
      "51  [blanket, person, man, mountain, peak, ridge, ...  \n",
      "52  [blanket, foot, hill, person, mountain, ski sl...  \n",
      "53  [blue, paddle, calm, clear, float, person, lag...  \n",
      "54  [blanket, person, man, mountain, stone, skier,...  \n",
      "55  [blanket, building, mountain, snow, snowy, tra...  \n"
     ]
    }
   ],
   "source": [
    "import json\n",
    "import pandas as pd\n",
    "import re\n",
    "\n",
    "# Load JSON file\n",
    "with open(\"metadata 8.json\", \"r\") as f:\n",
    "    data = json.load(f)\n",
    "\n",
    "# Prepare list for DataFrame\n",
    "records = []\n",
    "\n",
    "# Iterate over media items\n",
    "for item in data.get(\"media_items\", []):\n",
    "    video_name = None\n",
    "    frame_timestamp = None\n",
    "    categories = []\n",
    "    file_name = item.get(\"file_name\", \"\")\n",
    "    \n",
    "    for metadata in item.get(\"metadata_items\", []):\n",
    "        if metadata[\"type\"] == \"video_info\":\n",
    "            video_name = metadata[\"properties\"].get(\"video_name\")\n",
    "            frame_timestamp = metadata[\"properties\"].get(\"frame_timestamp\")\n",
    "        elif metadata[\"type\"] == \"image_label\":\n",
    "            categories.append(metadata[\"properties\"].get(\"category_name\"))\n",
    "    \n",
    "    # Extract frame number from file name\n",
    "    match = re.search(r'output_(\\d+).jpg', file_name)\n",
    "    frame_number = int(match.group(1)) if match else None\n",
    "    \n",
    "    # Append record with categories as a list\n",
    "    records.append({\n",
    "        \"video_name\": video_name,\n",
    "        \"file_name\": file_name,\n",
    "        \"frame_number\": frame_number,\n",
    "        \"time_in_video\": frame_timestamp,\n",
    "        \"categories\": categories\n",
    "    })\n",
    "\n",
    "# Convert to DataFrame\n",
    "df = pd.DataFrame(records)\n",
    "print(df.tail())\n"
   ]
  },
  {
   "cell_type": "code",
   "execution_count": null,
   "id": "d3e6dcd3",
   "metadata": {},
   "outputs": [],
   "source": []
  }
 ],
 "metadata": {
  "kernelspec": {
   "display_name": "Python 3 (ipykernel)",
   "language": "python",
   "name": "python3"
  },
  "language_info": {
   "codemirror_mode": {
    "name": "ipython",
    "version": 3
   },
   "file_extension": ".py",
   "mimetype": "text/x-python",
   "name": "python",
   "nbconvert_exporter": "python",
   "pygments_lexer": "ipython3",
   "version": "3.10.12"
  }
 },
 "nbformat": 4,
 "nbformat_minor": 5
}
